{
 "cells": [
  {
   "cell_type": "markdown",
   "id": "895442fa",
   "metadata": {},
   "source": [
    "# Notes on How to Set Up nbdev"
   ]
  },
  {
   "cell_type": "markdown",
   "id": "0822e986",
   "metadata": {},
   "source": [
    "## Setting Up \n",
    "\n",
    "1. Start by installing nbdev using pip or conda.\n",
    "\n",
    "2. To create a new repo, you can use this template here: https://github.com/fastai/nbdev_template/generate\n",
    "\n",
    "**NB**: the name of your project will also become the name of the Python package created by nbdev.\n",
    "\n",
    "You can also use a cli command (*nbdev_new*) to create a project from an existing local repo.\n",
    "\n",
    "## GitHub Pages\n",
    "\n",
    "nbdev uses jekyll for documentation, which is supported by GitHub Pages. To get this to work, go to the settings of your GitHub repo, find the pages tab and set it to use the docs folder. Make sure to return to your main repo page and edit the description to include this."
   ]
  },
  {
   "cell_type": "markdown",
   "id": "17ec4075",
   "metadata": {},
   "source": [
    "## Settings.ini\n",
    "\n",
    "In the settings.ini file, be sure to uncomment and fill in the required information (unless noted, its probably required)\n",
    "\n",
    "## Git Hooks\n",
    "\n",
    "To ensure minimal conflicts with git, run \n",
    "    \n",
    "    nbdev_install_git_hooks\n",
    "    \n",
    "This sets up git hooks to remove metadata that might create unecessary conflicts when comitting changes. If a conflict does happen, run\n",
    "\n",
    "    nbdev_fix_merge <filename>.ipynb"
   ]
  },
  {
   "cell_type": "markdown",
   "id": "451dd3c4",
   "metadata": {},
   "source": [
    "## Common Special Tags\n",
    "\n",
    "To hide a cell from the documentation and the created module, use:\n",
    "\n",
    "    #hide\n",
    "    \n",
    "To ensure that something is included in the module and documentation, use:\n",
    "    \n",
    "    #export\n",
    "\n",
    "Adding an s, to make exports adds the source code to the documentation.\n",
    "\n",
    "By default (no special comment) puts it in the documentation."
   ]
  },
  {
   "cell_type": "markdown",
   "id": "c42de057",
   "metadata": {},
   "source": [
    "## Exporting to GitHub\n",
    "\n",
    "Once you're ready to export a module to GitHub, use these two commands:\n",
    "\n",
    "    nbdev_build_lib\n",
    "    \n",
    "    nbdev_build_docs\n",
    "    \n",
    "Be careful that changing file names in settings or otherwise may accidentally create duplicate folders under different names.\n",
    "\n",
    "If a subdirectory contains the notebook files (not the project root), you will need run the command\n",
    "\n",
    "    pip install -e"
   ]
  },
  {
   "cell_type": "markdown",
   "id": "a92e4383",
   "metadata": {},
   "source": [
    "## Further Reading\n",
    "\n",
    "https://nbdev.fast.ai/tutorial.html"
   ]
  },
  {
   "cell_type": "code",
   "execution_count": null,
   "id": "b68a6b2c",
   "metadata": {},
   "outputs": [],
   "source": []
  }
 ],
 "metadata": {
  "kernelspec": {
   "display_name": "Python 3 (ipykernel)",
   "language": "python",
   "name": "python3"
  }
 },
 "nbformat": 4,
 "nbformat_minor": 5
}
